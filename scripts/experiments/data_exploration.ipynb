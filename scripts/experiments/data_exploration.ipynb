{
 "cells": [
  {
   "cell_type": "markdown",
   "id": "efbdafb1",
   "metadata": {},
   "source": [
    "### Model Stats CSV\n",
    "Show info about the CSV file<br>\n",
    "Show percentage of \"is_better\" overall and for each dataset"
   ]
  },
  {
   "cell_type": "code",
   "execution_count": null,
   "id": "7876600c",
   "metadata": {},
   "outputs": [],
   "source": [
    "import pandas as pd\n",
    "\n",
    "df = pd.read_csv('./model_stats.csv')\n",
    "print(df.shape)\n",
    "\n",
    "# Print percentage of \"is_better\" overall and for each dataset\n",
    "print(\"\\nPercentage of 'is_better' for each dataset:\")\n",
    "print((df.groupby(['dataset_name', 'dataset_group'])['scores_is_better']\n",
    "    .value_counts(normalize=True) * 100))\n",
    "\n",
    "print(\"\\nPercentage of 'is_better' overall:\")\n",
    "print((df['scores_is_better'].value_counts(normalize=True) * 100))"
   ]
  },
  {
   "cell_type": "markdown",
   "id": "f18b8c2f",
   "metadata": {},
   "source": [
    "### Feature Engineering\n",
    "Create new features:\n",
    "- Calculate differences between consecutive steps for each layer\n",
    "- ..."
   ]
  },
  {
   "cell_type": "code",
   "execution_count": null,
   "id": "038390b9",
   "metadata": {},
   "outputs": [],
   "source": [
    "import pandas as pd\n",
    "import re\n",
    "\n",
    "df = pd.read_csv('./model_stats.csv')\n",
    "\n",
    "# Define the layer steps you want to compare\n",
    "steps = ['step_10', 'step_25', 'step_50', 'step_100', 'step_200', 'step_300', 'step_400', 'step_500']\n",
    "layers = ['mlp.0', 'mlp.1', 'mlp.2']  # Adapt if you have more\n",
    "stats = ['weight_mean', 'weight_std', 'weight_var', 'weight_frobenius_norm', 'weight_spectral_norm', 'weight_alpha_hat']  # etc.\n",
    "\n",
    "# Find all relevant columns\n",
    "pattern = re.compile(r'weights_step_(\\d+)_mlp\\.(\\d+)\\.(\\w+)')\n",
    "relevant_cols = [col for col in df.columns if pattern.match(col)]\n",
    "\n",
    "# Compute diffs and store them in a dictionary first\n",
    "features = {}\n",
    "\n",
    "for stat in stats:\n",
    "    for layer in layers:\n",
    "        for i in range(1, len(steps)):\n",
    "            prev_step = steps[i-1]\n",
    "            curr_step = steps[i]\n",
    "            col_prev = f'weights_{prev_step}_{layer}.{stat}'\n",
    "            col_curr = f'weights_{curr_step}_{layer}.{stat}'\n",
    "            if col_prev in df.columns and col_curr in df.columns:\n",
    "                new_col = f'diff_{curr_step}_{prev_step}_{layer}_{stat}'\n",
    "                features[new_col] = df[col_curr] - df[col_prev]"
   ]
  },
  {
   "cell_type": "code",
   "execution_count": null,
   "id": "31dc9c33",
   "metadata": {},
   "outputs": [],
   "source": [
    "# # Concatenate all new features at once\n",
    "# features_df = pd.DataFrame(features)\n",
    "# df = pd.concat([df, features_df], axis=1)\n",
    "\n",
    "# # Save or return the enhanced dataframe\n",
    "# df.to_csv('./new_model_stats.csv', index=False)"
   ]
  },
  {
   "cell_type": "markdown",
   "id": "2af3c76f",
   "metadata": {},
   "source": [
    "## Stages Summary"
   ]
  },
  {
   "cell_type": "code",
   "execution_count": null,
   "id": "648546a6",
   "metadata": {},
   "outputs": [],
   "source": [
    "import pandas as pd\n",
    "import matplotlib.pyplot as plt\n",
    "\n",
    "df_classification = pd.read_csv('./output/classification/stagewise_summary.csv')\n",
    "df_regression = pd.read_csv('./output/regression/stagewise_summary.csv')"
   ]
  },
  {
   "cell_type": "code",
   "execution_count": null,
   "id": "c20136c8",
   "metadata": {},
   "outputs": [],
   "source": [
    "# Print evolution of metrics for classification in separate plots\n",
    "metrics = ['acc_score', 'roc_auc_score', 'log_loss_score', 'f1_score', 'time']\n",
    "\n",
    "for metric in metrics:\n",
    "    plt.figure(figsize=(10, 6))\n",
    "    plt.plot(df_classification['stage'], df_classification[metric], marker='o')\n",
    "    plt.ylabel(metric.capitalize())\n",
    "    plt.xlabel('Stage')\n",
    "    plt.title(f'Evolution of {metric.capitalize()} (Classification)')\n",
    "    plt.grid(True)\n",
    "    plt.xticks(rotation='vertical')\n",
    "    plt.tight_layout()\n",
    "    \n",
    "    # Save the plot as an image\n",
    "    # plt.savefig(f'./output/images/classification_{metric}_evolution.png')\n",
    "    plt.show()\n",
    "    plt.close()  # Close the figure to free up memory\n"
   ]
  },
  {
   "cell_type": "code",
   "execution_count": null,
   "id": "e15c3c4b",
   "metadata": {},
   "outputs": [],
   "source": [
    "# Print evolution of metrics for regression in separate plots\n",
    "metrics = ['mae_score', 'mse_score', 'r2_score', 'pearson', 'kendall', 'spearman', 'time']\n",
    "\n",
    "for metric in metrics:\n",
    "    plt.figure(figsize=(10, 6))\n",
    "    plt.plot(df_regression['stage'], df_regression[metric], marker='o')\n",
    "    plt.ylabel(metric.capitalize())\n",
    "    plt.xlabel('Stage')\n",
    "    plt.title(f'Evolution of {metric.capitalize()} (Regression)')\n",
    "    plt.grid(True)\n",
    "    plt.xticks(rotation='vertical')\n",
    "    plt.tight_layout()\n",
    "    \n",
    "    # Save the plot as an image\n",
    "    # plt.savefig(f'./output/images/regression_{metric}_evolution.png')\n",
    "    plt.show()\n",
    "    plt.close()  # Close the figure to free up memory"
   ]
  },
  {
   "cell_type": "markdown",
   "id": "cf9c68ab",
   "metadata": {},
   "source": []
  }
 ],
 "metadata": {
  "kernelspec": {
   "display_name": "Python 3",
   "language": "python",
   "name": "python3"
  },
  "language_info": {
   "codemirror_mode": {
    "name": "ipython",
    "version": 3
   },
   "file_extension": ".py",
   "mimetype": "text/x-python",
   "name": "python",
   "nbconvert_exporter": "python",
   "pygments_lexer": "ipython3",
   "version": "3.12.9"
  }
 },
 "nbformat": 4,
 "nbformat_minor": 5
}
